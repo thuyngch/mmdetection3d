{
 "cells": [
  {
   "cell_type": "code",
   "execution_count": 1,
   "metadata": {
    "pycharm": {
     "is_executing": false
    }
   },
   "outputs": [],
   "source": [
    "from mmdet3d.apis import init_detector, inference_detector, show_result_meshlab"
   ]
  },
  {
   "cell_type": "code",
   "execution_count": 2,
   "metadata": {
    "pycharm": {
     "is_executing": false
    }
   },
   "outputs": [],
   "source": [
    "config_file = '../configs/pointpillars/hv_pointpillars_secfpn_6x8_160e_kitti-3d-3class.py'\n",
    "# download the checkpoint from model zoo and put it in `checkpoints/`\n",
    "checkpoint_file = '../../../checkpoints/3d/hv_pointpillars_secfpn_6x8_160e_kitti-3d-3class_20200620_230421-aa0f3adb.pth'"
   ]
  },
  {
   "cell_type": "code",
   "execution_count": 3,
   "metadata": {
    "pycharm": {
     "is_executing": false
    }
   },
   "outputs": [],
   "source": [
    "# build the model from a config file and a checkpoint file\n",
    "model = init_detector(config_file, checkpoint_file, device='cuda:0')"
   ]
  },
  {
   "cell_type": "code",
   "execution_count": 4,
   "metadata": {
    "pycharm": {
     "is_executing": false
    }
   },
   "outputs": [],
   "source": [
    "# test a single sample\n",
    "pcd = 'kitti_000008.bin'\n",
    "result, data = inference_detector(model, pcd)"
   ]
  },
  {
   "cell_type": "code",
   "execution_count": 5,
   "metadata": {
    "pycharm": {
     "is_executing": false
    }
   },
   "outputs": [],
   "source": [
    "# show the results\n",
    "out_dir = './'\n",
    "show_result_meshlab(data, result, out_dir)"
   ]
  },
  {
   "cell_type": "code",
   "execution_count": 14,
   "metadata": {},
   "outputs": [
    {
     "data": {
      "text/plain": [
       "{'boxes_3d': LiDARInstance3DBoxes(\n",
       "     tensor([[  7.6368,   6.0337,  -0.7049,   0.5380,   1.6368,   1.6816,   1.1690],\n",
       "         [  8.0813,   1.2360,  -1.5221,   1.5556,   3.5950,   1.5098,  -1.2870],\n",
       "         [  6.4173,  -3.8148,  -1.7652,   1.4713,   3.1078,   1.4624,   1.8872],\n",
       "         [ 14.7695,  -1.1130,  -1.5709,   1.5431,   3.8069,   1.4875,   1.8945],\n",
       "         [ 33.3250,  -7.0627,  -1.2610,   1.6582,   4.0907,   1.6339,  -1.2844],\n",
       "         [ 20.3003,  -8.4587,  -1.6727,   1.5208,   2.6914,   1.6241,   1.9094],\n",
       "         [  3.6622,   2.7378,  -1.5460,   1.5642,   3.6437,   1.4970,   1.7988],\n",
       "         [ 28.6279,  -1.6022,  -1.0425,   1.5140,   3.8013,   1.4418,   0.3095],\n",
       "         [ 55.6062, -20.1399,  -1.3588,   1.6496,   4.0910,   1.6164,  -1.2947],\n",
       "         [ 24.9041, -10.1028,  -1.6406,   1.6510,   3.6680,   1.4994,   1.8840],\n",
       "         [ 40.7069,  -9.7905,  -1.3112,   1.5934,   3.9164,   1.5893,  -1.2865]])),\n",
       " 'scores_3d': tensor([0.4375, 0.9567, 0.9528, 0.9437, 0.8850, 0.8328, 0.7940, 0.7637, 0.6648,\n",
       "         0.6040, 0.4795]),\n",
       " 'labels_3d': tensor([1, 2, 2, 2, 2, 2, 2, 2, 2, 2, 2])}"
      ]
     },
     "execution_count": 14,
     "metadata": {},
     "output_type": "execute_result"
    }
   ],
   "source": [
    "result"
   ]
  },
  {
   "cell_type": "code",
   "execution_count": 15,
   "metadata": {},
   "outputs": [
    {
     "data": {
      "text/plain": [
       "{'img_metas': [[{'flip': False,\n",
       "    'pcd_horizontal_flip': False,\n",
       "    'pcd_vertical_flip': False,\n",
       "    'box_mode_3d': <Box3DMode.LIDAR: 0>,\n",
       "    'box_type_3d': mmdet3d.core.bbox.structures.lidar_box3d.LiDARInstance3DBoxes,\n",
       "    'pcd_trans': array([0., 0., 0.]),\n",
       "    'pcd_scale_factor': 1.0,\n",
       "    'pts_filename': 'kitti_000008.bin'}]],\n",
       " 'points': [[tensor([[ 2.1554e+01,  2.8000e-02,  9.3800e-01,  3.4000e-01],\n",
       "           [ 2.1240e+01,  9.4000e-02,  9.2700e-01,  2.4000e-01],\n",
       "           [ 2.1056e+01,  1.5900e-01,  9.2100e-01,  5.3000e-01],\n",
       "           ...,\n",
       "           [ 6.3150e+00, -3.1000e-02, -1.6490e+00,  2.9000e-01],\n",
       "           [ 6.3090e+00, -2.1000e-02, -1.6470e+00,  2.9000e-01],\n",
       "           [ 6.3110e+00, -1.0000e-03, -1.6480e+00,  3.2000e-01]], device='cuda:0')]]}"
      ]
     },
     "execution_count": 15,
     "metadata": {},
     "output_type": "execute_result"
    }
   ],
   "source": [
    "data"
   ]
  },
  {
   "cell_type": "code",
   "execution_count": null,
   "metadata": {},
   "outputs": [],
   "source": []
  }
 ],
 "metadata": {
  "kernelspec": {
   "display_name": "Python 3",
   "language": "python",
   "name": "python3"
  },
  "language_info": {
   "codemirror_mode": {
    "name": "ipython",
    "version": 3
   },
   "file_extension": ".py",
   "mimetype": "text/x-python",
   "name": "python",
   "nbconvert_exporter": "python",
   "pygments_lexer": "ipython3",
   "version": "3.7.7"
  },
  "pycharm": {
   "stem_cell": {
    "cell_type": "raw",
    "metadata": {
     "collapsed": false
    },
    "source": []
   }
  }
 },
 "nbformat": 4,
 "nbformat_minor": 4
}
